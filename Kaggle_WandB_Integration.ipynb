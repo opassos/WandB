{
  "nbformat": 4,
  "nbformat_minor": 0,
  "metadata": {
    "colab": {
      "name": "Kaggle-WandB Integration.ipynb",
      "provenance": [],
      "authorship_tag": "ABX9TyMBTUHt+fVpR5qXiOs86KPD",
      "include_colab_link": true
    },
    "kernelspec": {
      "name": "python3",
      "display_name": "Python 3"
    },
    "language_info": {
      "name": "python"
    }
  },
  "cells": [
    {
      "cell_type": "markdown",
      "metadata": {
        "id": "view-in-github",
        "colab_type": "text"
      },
      "source": [
        "<a href=\"https://colab.research.google.com/github/opassos/WandB/blob/main/Kaggle_WandB_Integration.ipynb\" target=\"_parent\"><img src=\"https://colab.research.google.com/assets/colab-badge.svg\" alt=\"Open In Colab\"/></a>"
      ]
    },
    {
      "cell_type": "code",
      "metadata": {
        "id": "iSbJeT_jeqHl"
      },
      "source": [
        "!pip install -Uqqq wandb"
      ],
      "execution_count": null,
      "outputs": []
    },
    {
      "cell_type": "code",
      "metadata": {
        "id": "Jw3JwdPvfe10"
      },
      "source": [
        "import wandb"
      ],
      "execution_count": null,
      "outputs": []
    },
    {
      "cell_type": "code",
      "metadata": {
        "id": "gNVzPkz5ffHy"
      },
      "source": [
        "wandb.Api()"
      ],
      "execution_count": null,
      "outputs": []
    },
    {
      "cell_type": "code",
      "metadata": {
        "id": "gf1uTvcSfgUP"
      },
      "source": [
        "%%writefile kaggle_key.json\n",
        "{\"username\":\"XXX\",\"key\":\"XXXXXXXX\"}"
      ],
      "execution_count": null,
      "outputs": []
    },
    {
      "cell_type": "code",
      "metadata": {
        "id": "bezqkwhAgIqr"
      },
      "source": [
        "with wandb.init(project = 'kaggle', job_type='logging') as run:\n",
        "    artifact = wandb.Artifact('kaggle-key', type='dataset')\n",
        "    artifact.add_file('kaggle_key.json')\n",
        "    run.log_artifact(artifact)"
      ],
      "execution_count": null,
      "outputs": []
    }
  ]
}